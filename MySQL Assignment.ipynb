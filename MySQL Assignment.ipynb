{
 "cells": [
  {
   "cell_type": "markdown",
   "id": "2556cb16-6939-4adb-9302-8a827a976fbe",
   "metadata": {},
   "source": [
    "## Q1. What is a database? Differentiate between SQL and NoSQL databases."
   ]
  },
  {
   "cell_type": "markdown",
   "id": "a8a51198-3ed5-45f5-bb95-0c31d2481344",
   "metadata": {},
   "source": [
    "Ans:-"
   ]
  },
  {
   "cell_type": "markdown",
   "id": "8e910035-c4e7-43a1-a25e-feb7a57d3d13",
   "metadata": {},
   "source": [
    "* Database "
   ]
  },
  {
   "cell_type": "markdown",
   "id": "5c9f6e9d-43bc-4042-a2f8-ff63de88c943",
   "metadata": {},
   "source": [
    "A database is a structured collection of data that is organized in a way that makes it easy to manage, retrieve, and update. It can store and manage large amounts of information, and databases are widely used in various applications and industries to handle structured data efficiently."
   ]
  },
  {
   "cell_type": "markdown",
   "id": "25217042-9902-4b06-b3fa-e257f50a92db",
   "metadata": {},
   "source": [
    "* SQL (Structured Query Language) Databases:"
   ]
  },
  {
   "cell_type": "markdown",
   "id": "5eaa9f25-2538-462c-bd22-a4227dabbfd5",
   "metadata": {},
   "source": [
    "\n",
    "SQL databases are relational databases that use a structured query language (SQL) for defining and manipulating the data. They are based on a tabular structure where data is organized in tables with rows and columns. Examples of SQL databases include MySQL, PostgreSQL, Oracle, and Microsoft SQL Server."
   ]
  },
  {
   "cell_type": "markdown",
   "id": "33a878ad-492e-4753-afef-5f4faec05a48",
   "metadata": {},
   "source": [
    "* NoSQL Databases:"
   ]
  },
  {
   "cell_type": "markdown",
   "id": "5cede5b0-413c-4756-a89e-eb3f5b332261",
   "metadata": {},
   "source": [
    "NoSQL databases, on the other hand, are non-relational databases that can handle unstructured, semi-structured, or structured data. They are designed to be more flexible and scalable than SQL databases, especially when dealing with large volumes of data or dynamic data models. Examples of NoSQL databases include MongoDB, Cassandra, Couchbase, and Redis."
   ]
  },
  {
   "cell_type": "markdown",
   "id": "1fef3b7a-2f90-4f49-9f23-ff4d7b7a661f",
   "metadata": {},
   "source": [
    "* Differences between SQL and NoSQL"
   ]
  },
  {
   "cell_type": "markdown",
   "id": "38d45c4e-3ab8-4b23-90bb-9f12c3207c2b",
   "metadata": {},
   "source": [
    "* Data Structure:"
   ]
  },
  {
   "cell_type": "markdown",
   "id": "e2b3207d-8d62-4780-884d-b4a2c357b086",
   "metadata": {},
   "source": [
    " SQL databases are table-based and use a predefined schema, while NoSQL databases are document-oriented, key-value pairs, wide-column stores, or graph databases, and may not require a fixed schema."
   ]
  },
  {
   "cell_type": "markdown",
   "id": "bbd57aff-ee9f-4c06-81d0-340bd2595a8e",
   "metadata": {},
   "source": [
    "* Scalability: "
   ]
  },
  {
   "cell_type": "markdown",
   "id": "f8fb5ca2-b5f0-4438-9a75-a2276a4c8e63",
   "metadata": {},
   "source": [
    "SQL databases usually scale vertically (by adding more horsepower to a single server), whereas NoSQL databases typically scale horizontally (by adding more servers to a distributed system)."
   ]
  },
  {
   "cell_type": "markdown",
   "id": "17122b17-3b04-4cec-ad46-93960986ba9a",
   "metadata": {},
   "source": [
    "* Schema: "
   ]
  },
  {
   "cell_type": "markdown",
   "id": "5bd320ff-a971-4de7-bc74-51b362c52e41",
   "metadata": {},
   "source": [
    "SQL databases have a fixed schema, which means the structure of the data (tables and columns) is defined in advance. In contrast, NoSQL databases are schema-less or have a dynamic schema, allowing for more flexibility in handling different types of data."
   ]
  },
  {
   "cell_type": "markdown",
   "id": "df8fd8bc-c6ee-4b66-8e2e-4784f50db41d",
   "metadata": {},
   "source": [
    "* Complexity: "
   ]
  },
  {
   "cell_type": "markdown",
   "id": "f0abf0cb-546e-4051-a462-a1c3e152ec86",
   "metadata": {},
   "source": [
    "SQL databases are generally good for complex queries and transactions, while NoSQL databases are often better for large amounts of simple read and write operations and scalable data storage."
   ]
  },
  {
   "cell_type": "markdown",
   "id": "5b9692d3-c27c-4c77-babe-832afc840497",
   "metadata": {},
   "source": [
    "## Q2. What is DDL? Explain why CREATE, DROP, ALTER, and TRUNCATE are used with an example."
   ]
  },
  {
   "cell_type": "markdown",
   "id": "8bb0fcc1-a179-4202-919d-e1edba76aca7",
   "metadata": {},
   "source": [
    "Ans :- "
   ]
  },
  {
   "cell_type": "markdown",
   "id": "17585e8a-1b57-4552-9bb6-633d14c17853",
   "metadata": {},
   "source": [
    "* DDL (Data Definition Language):"
   ]
  },
  {
   "cell_type": "markdown",
   "id": "b0e1cae8-2fe1-4db7-8dcc-39c28d843f48",
   "metadata": {},
   "source": [
    "Data Definition Language (DDL) is a subset of SQL that deals with the structure and definition of the database objects. DDL commands are used to define, modify, and delete database objects such as tables, indexes, and schemas. Common DDL commands include CREATE, DROP, ALTER, and TRUNCATE."
   ]
  },
  {
   "cell_type": "markdown",
   "id": "b8b335f1-6efd-49d0-87da-e916b155c62f",
   "metadata": {},
   "source": [
    "1. CREATE :-"
   ]
  },
  {
   "cell_type": "markdown",
   "id": "e60d8b24-5ab5-4b5d-81cb-a20a1c6ec9a6",
   "metadata": {},
   "source": [
    "The CREATE command is used to create a new database object, such as a table, index, or view. It specifies the structure of the object, including the column names, data types, and constraints. Here's an example of creating a simple table in SQL:"
   ]
  },
  {
   "cell_type": "markdown",
   "id": "3497e704-c450-4ec5-b6ed-e8c6566f6440",
   "metadata": {},
   "source": [
    "Example :- "
   ]
  },
  {
   "cell_type": "code",
   "execution_count": null,
   "id": "1f6695b9-9d90-434d-8bf5-727e37babc05",
   "metadata": {},
   "outputs": [],
   "source": [
    "CREATE TABLE employees (\n",
    "    employee_id INT PRIMARY KEY,\n",
    "    first_name VARCHAR(50),\n",
    "    last_name VARCHAR(50),\n",
    "    hire_date DATE);"
   ]
  },
  {
   "cell_type": "markdown",
   "id": "0370c888-118f-46b4-b23e-ba9f318f0abb",
   "metadata": {},
   "source": [
    "2. DROP :-"
   ]
  },
  {
   "cell_type": "markdown",
   "id": "4a59f173-de22-4571-9a9e-e8933ad3b649",
   "metadata": {},
   "source": [
    "The DROP command is used to remove an existing database object, such as a table or index. It permanently deletes the object and its data from the database. Here's an example of dropping the \"employees\" table:"
   ]
  },
  {
   "cell_type": "markdown",
   "id": "4f9533fc-9302-47f1-b451-0afc6d6a2d40",
   "metadata": {},
   "source": [
    "Example :-"
   ]
  },
  {
   "cell_type": "code",
   "execution_count": null,
   "id": "cf26a89f-5026-4e02-b414-c1aa9c39e344",
   "metadata": {},
   "outputs": [],
   "source": [
    "DROP TABLE employees;"
   ]
  },
  {
   "cell_type": "markdown",
   "id": "c55aea4f-26a6-4fc2-9c7f-23b372d33eb4",
   "metadata": {},
   "source": [
    "3. ALTER :-"
   ]
  },
  {
   "cell_type": "markdown",
   "id": "3527688b-8002-4470-a1f2-e3cd8fd60acd",
   "metadata": {},
   "source": [
    "The ALTER command is used to modify the structure of an existing database object, such as adding or deleting columns or modifying constraints. Here's an example of adding a new column to the \"employees\" table:"
   ]
  },
  {
   "cell_type": "markdown",
   "id": "844504a0-de6c-421d-9c7b-c2c557079abe",
   "metadata": {},
   "source": [
    "Example :-"
   ]
  },
  {
   "cell_type": "code",
   "execution_count": null,
   "id": "99b06592-dff1-4d69-b820-6c883b80c6e8",
   "metadata": {},
   "outputs": [],
   "source": [
    "ALTER TABLE employees\n",
    "ADD COLUMN department VARCHAR(50);"
   ]
  },
  {
   "cell_type": "markdown",
   "id": "7d61006b-4105-4051-a8c0-8dd3d7e37808",
   "metadata": {},
   "source": [
    "4. TRUNCATE :-"
   ]
  },
  {
   "cell_type": "markdown",
   "id": "56a5f5f7-2114-4f8d-b7c9-60061269cefa",
   "metadata": {},
   "source": [
    "The TRUNCATE command is used to remove all rows from a table but retains the table structure for future use. It is faster than the DELETE command because it doesn't log individual row deletions."
   ]
  },
  {
   "cell_type": "code",
   "execution_count": null,
   "id": "7d6e9f47-84bc-4551-b0e2-ed410842209f",
   "metadata": {},
   "outputs": [],
   "source": [
    "TRUNCATE TABLE employees;"
   ]
  },
  {
   "cell_type": "markdown",
   "id": "b990d6f9-0855-4691-9701-f8e2ac01eae4",
   "metadata": {},
   "source": [
    "## Q3. What is DML? Explain INSERT, UPDATE, and DELETE with an example."
   ]
  },
  {
   "cell_type": "markdown",
   "id": "67d536f8-2d68-4ab8-a3b7-e8e88708b7b8",
   "metadata": {},
   "source": [
    "Ans :-"
   ]
  },
  {
   "cell_type": "markdown",
   "id": "f3811957-c5a1-4b9b-8be0-3817d89303ee",
   "metadata": {},
   "source": [
    "Data Manipulation Language (DML) is a subset of SQL used for managing data stored in a database. DML commands allow users to insert, update, and delete data within database tables. The primary DML commands include INSERT, UPDATE, and DELETE."
   ]
  },
  {
   "cell_type": "markdown",
   "id": "01803f6c-8f15-443f-bf56-b40f4c4f5a23",
   "metadata": {},
   "source": [
    "1. INSERT :-"
   ]
  },
  {
   "cell_type": "markdown",
   "id": "f3fb191d-bfce-4e19-beb8-972d13cb80bc",
   "metadata": {},
   "source": [
    "The INSERT command is used to add new rows of data into a table. It is used to populate the table with the values specified in the command. "
   ]
  },
  {
   "cell_type": "markdown",
   "id": "271eed48-92a8-4bc6-a609-92dfbd20538c",
   "metadata": {},
   "source": [
    "Example :-"
   ]
  },
  {
   "cell_type": "code",
   "execution_count": null,
   "id": "708f0a45-f3c5-46a1-8497-63db60eba719",
   "metadata": {},
   "outputs": [],
   "source": [
    "INSERT INTO employees (employee_id, first_name, last_name, hire_date)\n",
    "VALUES (1, 'John', 'Doe', '2022-01-01');"
   ]
  },
  {
   "cell_type": "markdown",
   "id": "c5654816-c79a-4791-9787-c0e6cc3bd2b8",
   "metadata": {},
   "source": [
    "2. UPDATE :-"
   ]
  },
  {
   "cell_type": "markdown",
   "id": "2e66dff9-b7ac-469e-91b2-8c07aed3622f",
   "metadata": {},
   "source": [
    "The UPDATE command is used to modify existing data within a table. It allows users to change the values of specific columns based on certain conditions."
   ]
  },
  {
   "cell_type": "markdown",
   "id": "addeff12-934d-4c75-b01a-ce630a6540b1",
   "metadata": {},
   "source": [
    "Example :-"
   ]
  },
  {
   "cell_type": "code",
   "execution_count": null,
   "id": "c1b6e599-0fc5-4094-82fe-01e490b63844",
   "metadata": {},
   "outputs": [],
   "source": [
    "UPDATE employees\n",
    "SET last_name = 'Smith'\n",
    "WHERE employee_id = 1;"
   ]
  },
  {
   "cell_type": "markdown",
   "id": "c4a2d809-9509-4318-ace9-374a1b940c97",
   "metadata": {},
   "source": [
    "3. DELETE :-"
   ]
  },
  {
   "cell_type": "markdown",
   "id": "a0531dbb-1107-4114-860f-090b3fa00af7",
   "metadata": {},
   "source": [
    "The DELETE command is used to remove one or more rows from a table based on specified conditions."
   ]
  },
  {
   "cell_type": "markdown",
   "id": "f8e2565d-58ad-4f5a-a5fe-06674d73bc65",
   "metadata": {},
   "source": [
    "Example :-"
   ]
  },
  {
   "cell_type": "code",
   "execution_count": null,
   "id": "e06eeeef-b03d-45de-a5b7-552cc1ed2958",
   "metadata": {},
   "outputs": [],
   "source": [
    "DELETE FROM employees\n",
    "WHERE employee_id = 1;"
   ]
  },
  {
   "cell_type": "markdown",
   "id": "1761aaec-83d2-4648-ab58-a4a1618aa9d8",
   "metadata": {},
   "source": [
    "## Q4. What is DQL? Explain SELECT with an example."
   ]
  },
  {
   "cell_type": "markdown",
   "id": "3da8cb3f-c320-4336-87a0-fee6520307a7",
   "metadata": {},
   "source": [
    "Ans :-"
   ]
  },
  {
   "cell_type": "markdown",
   "id": "f3e64a90-5715-4256-8da8-7beb0c52c0fc",
   "metadata": {},
   "source": [
    "Data Query Language (DQL) is a subset of SQL used for querying and retrieving data from a database. The primary DQL command is SELECT, which allows users to specify the data they want to retrieve and the conditions for retrieval."
   ]
  },
  {
   "cell_type": "markdown",
   "id": "799f4c70-fba4-40b1-9c19-4817017af88f",
   "metadata": {},
   "source": [
    "SELECT :-"
   ]
  },
  {
   "cell_type": "markdown",
   "id": "089826ef-a5ee-4f59-ac63-1c3465bb1dbe",
   "metadata": {},
   "source": [
    "The SELECT statement is used to retrieve data from one or more tables in a database. It allows users to specify the columns they want, apply filtering conditions, and sort the results"
   ]
  },
  {
   "cell_type": "markdown",
   "id": "75937d70-9952-412d-926c-d16e3962278e",
   "metadata": {},
   "source": [
    "Example :-"
   ]
  },
  {
   "cell_type": "code",
   "execution_count": null,
   "id": "7fc1725e-5b0b-4859-a072-eac03d0e377e",
   "metadata": {},
   "outputs": [],
   "source": [
    "SELECT column1, column2, \n",
    "FROM table_name\n",
    "WHERE condition;"
   ]
  },
  {
   "cell_type": "markdown",
   "id": "365eb1a2-418e-44b3-b6a6-92eb0e2795e3",
   "metadata": {},
   "source": [
    "## Q5. Explain Primary Key and Foreign Key."
   ]
  },
  {
   "cell_type": "markdown",
   "id": "8b709158-2e2f-4618-8bef-42e7082a12d2",
   "metadata": {},
   "source": [
    "Ans :-"
   ]
  },
  {
   "cell_type": "markdown",
   "id": "563bf8ba-0156-4f2d-b287-5db19125dc4a",
   "metadata": {},
   "source": [
    "* Primary Key :-"
   ]
  },
  {
   "cell_type": "markdown",
   "id": "27acd026-0c51-4fd0-9f90-adbf5eb85de7",
   "metadata": {},
   "source": [
    "A primary key is a unique identifier for a record in a database table. It is a column or a set of columns that uniquely identifies each row in the table. The primary key must have a unique value for each record and cannot contain null values. Additionally, a table can have only one primary key."
   ]
  },
  {
   "cell_type": "markdown",
   "id": "867bb693-3ce2-44bc-a608-9b6c5803c3b8",
   "metadata": {},
   "source": [
    "Example :-"
   ]
  },
  {
   "cell_type": "code",
   "execution_count": null,
   "id": "cf61a014-1ee4-4743-994d-0fba6946c611",
   "metadata": {},
   "outputs": [],
   "source": [
    "CREATE TABLE employees (\n",
    "    employee_id INT PRIMARY KEY,\n",
    "    first_name VARCHAR(50),\n",
    "    last_name VARCHAR(50),\n",
    "    hire_date DATE\n",
    ");"
   ]
  },
  {
   "cell_type": "markdown",
   "id": "0e35e288-edcc-4aa3-af06-8551ab65662a",
   "metadata": {},
   "source": [
    "* Foreign Key:- "
   ]
  },
  {
   "cell_type": "markdown",
   "id": "ceff574a-0daa-420e-ab26-d819d0cf7219",
   "metadata": {},
   "source": [
    "A foreign key is a column or a set of columns in a database table that refers to the primary key of another table. It establishes a link between the two tables, creating a relationship. The foreign key in one table is used to match the primary key values in another table, creating referential integrity between the two."
   ]
  },
  {
   "cell_type": "code",
   "execution_count": null,
   "id": "5ef546ea-7663-479f-9e41-0b0649acb532",
   "metadata": {},
   "outputs": [],
   "source": [
    "CREATE TABLE departments (\n",
    "    department_id INT PRIMARY KEY,\n",
    "    department_name VARCHAR(50)\n",
    ");\n",
    "\n",
    "CREATE TABLE employees (\n",
    "    employee_id INT PRIMARY KEY,\n",
    "    first_name VARCHAR(50),\n",
    "    last_name VARCHAR(50),\n",
    "    department_id INT,\n",
    "    FOREIGN KEY (department_id) REFERENCES departments(department_id)\n",
    ");"
   ]
  },
  {
   "cell_type": "markdown",
   "id": "64d55bde-2c08-425b-bb7e-c95c20de1971",
   "metadata": {},
   "source": [
    "## Q6. Write a python code to connect MySQL to python. Explain the cursor() and execute() method."
   ]
  },
  {
   "cell_type": "markdown",
   "id": "87b28e28-5a98-4183-92ad-15f72dc087a3",
   "metadata": {},
   "source": [
    "Ans :-"
   ]
  },
  {
   "cell_type": "code",
   "execution_count": 1,
   "id": "5b5cb0fa-6087-47d3-82bf-a4bc70a8d9f7",
   "metadata": {},
   "outputs": [
    {
     "name": "stdout",
     "output_type": "stream",
     "text": [
      "Collecting mysql-connector-python\n",
      "  Downloading mysql_connector_python-8.3.0-cp310-cp310-manylinux_2_17_x86_64.whl (21.5 MB)\n",
      "\u001b[2K     \u001b[90m━━━━━━━━━━━━━━━━━━━━━━━━━━━━━━━━━━━━━━━━\u001b[0m \u001b[32m21.5/21.5 MB\u001b[0m \u001b[31m51.9 MB/s\u001b[0m eta \u001b[36m0:00:00\u001b[0m00:01\u001b[0m00:01\u001b[0m\n",
      "\u001b[?25hInstalling collected packages: mysql-connector-python\n",
      "Successfully installed mysql-connector-python-8.3.0\n",
      "Note: you may need to restart the kernel to use updated packages.\n"
     ]
    }
   ],
   "source": [
    "pip install mysql-connector-python"
   ]
  },
  {
   "cell_type": "code",
   "execution_count": null,
   "id": "b7671a2c-50f1-4be0-b84d-95909883fb5c",
   "metadata": {},
   "outputs": [],
   "source": [
    "import mysql.connector\n",
    "\n",
    "# Connect to the MySQL server\n",
    "mydb = mysql.connector.connect(\n",
    "    host=\"my_host\",\n",
    "    user=\"your_user\",\n",
    "    password=\"your_password\",\n",
    "    database=\"your_database\"\n",
    ")\n",
    "\n",
    "# Create a cursor object using the cursor() method\n",
    "mycursor = mydb.cursor()\n",
    "\n",
    "# Use the execute() method to execute a SQL query\n",
    "query = \"SELECT * FROM your_table\"\n",
    "mycursor.execute(query)\n",
    "\n",
    "# Fetch the results using fetchall() or fetchone() method\n",
    "results = cursor.fetchall()\n",
    "\n",
    "# Process the results\n",
    "for row in results:\n",
    "    print(row)\n",
    "\n",
    "# Close the cursor and connection\n",
    "cursor.close()\n",
    "conn.close()"
   ]
  },
  {
   "cell_type": "markdown",
   "id": "579ce217-27e6-43a7-bb03-0908352cc30d",
   "metadata": {},
   "source": [
    "* cursor() method:\n"
   ]
  },
  {
   "cell_type": "markdown",
   "id": "6aa9d01c-b839-4ed9-aeb9-0cc44478386f",
   "metadata": {},
   "source": [
    "The cursor() method is used to create a cursor object. A cursor is a pointer or handle to the result set of a query. It allows you to interact with the database and execute SQL queries."
   ]
  },
  {
   "cell_type": "markdown",
   "id": "df035d0d-8c35-4219-b3ad-9b3490e9d827",
   "metadata": {},
   "source": [
    "* execute() method:"
   ]
  },
  {
   "cell_type": "markdown",
   "id": "5ff4e54e-dd82-4351-aa6e-a2e05eb9a561",
   "metadata": {},
   "source": [
    "The execute() method is used to execute a SQL query. You pass the SQL query as a parameter to this method."
   ]
  },
  {
   "cell_type": "markdown",
   "id": "a4e2faa3-f325-4f09-99dc-d9fbf29752f7",
   "metadata": {},
   "source": [
    "## Q7. Give the order of execution of SQL clauses in an SQL query."
   ]
  },
  {
   "cell_type": "markdown",
   "id": "ce76c70d-e662-4e42-849d-d818b97d1b59",
   "metadata": {},
   "source": [
    "Ans :-"
   ]
  },
  {
   "cell_type": "markdown",
   "id": "2f8082da-320b-4954-834f-8ee05bc200ae",
   "metadata": {},
   "source": [
    "The order of execution of SQL clauses in an SQL query generally follows these steps:"
   ]
  },
  {
   "cell_type": "markdown",
   "id": "9b1b2958-a187-4c1f-a256-44be9e928b79",
   "metadata": {},
   "source": [
    "* FROM:-"
   ]
  },
  {
   "cell_type": "markdown",
   "id": "2912b1e1-6a2b-4dd1-b420-99bae93185e6",
   "metadata": {},
   "source": [
    "Specifies the table or tables from which to retrieve the data."
   ]
  },
  {
   "cell_type": "markdown",
   "id": "64fb85df-3110-48ec-8110-08216e828663",
   "metadata": {},
   "source": [
    "* WHERE: "
   ]
  },
  {
   "cell_type": "markdown",
   "id": "8cc4048a-53b0-49fe-8f12-8a11c69f5cab",
   "metadata": {},
   "source": [
    "Filters the rows based on a specified condition or criteria. Rows that do not satisfy the condition are excluded."
   ]
  },
  {
   "cell_type": "markdown",
   "id": "e1d1e41a-cfc1-46a2-8752-1ed62f13bb71",
   "metadata": {},
   "source": [
    "* GROUP BY:"
   ]
  },
  {
   "cell_type": "markdown",
   "id": "f42c17cc-ca20-47b6-b7f6-ff201cb0d0c6",
   "metadata": {},
   "source": [
    " Groups the result set by one or more columns. This is often used with aggregate functions like COUNT, SUM, AVG, etc."
   ]
  },
  {
   "cell_type": "markdown",
   "id": "2eb9546d-d265-4263-8c66-88273d4859a2",
   "metadata": {},
   "source": [
    "* SELECT:"
   ]
  },
  {
   "cell_type": "markdown",
   "id": "bdb7483b-9538-409c-a88c-c6cb877d74f6",
   "metadata": {},
   "source": [
    "Specifies the columns to be retrieved from the result set. This clause also includes the calculation of expressions, aliases, and the use of aggregate functions."
   ]
  },
  {
   "cell_type": "markdown",
   "id": "e3bec0e0-11da-4bd9-be05-090ffb8fa5e4",
   "metadata": {},
   "source": [
    "* DISTINCT: "
   ]
  },
  {
   "cell_type": "markdown",
   "id": "7381fc3c-0a1f-4e3b-8c50-9a453fce9157",
   "metadata": {},
   "source": [
    "Removes duplicate rows from the result set."
   ]
  },
  {
   "cell_type": "markdown",
   "id": "23ff6771-ae98-4fc2-9f3c-cd59fe15648f",
   "metadata": {},
   "source": [
    "* ORDER BY: "
   ]
  },
  {
   "cell_type": "markdown",
   "id": "c880d326-0135-4d2a-a92f-5d19f3713185",
   "metadata": {},
   "source": [
    "Sorts the result set based on one or more columns in ascending or descending order."
   ]
  },
  {
   "cell_type": "markdown",
   "id": "95b62c66-9a14-4070-afdc-4238f7ffe98d",
   "metadata": {},
   "source": [
    "* HAVING: "
   ]
  },
  {
   "cell_type": "markdown",
   "id": "2e6d0f1e-c166-45fc-88d2-14154a8aed11",
   "metadata": {},
   "source": [
    "Filters the groups formed by the GROUP BY clause based on a specified condition. It is similar to the WHERE clause but operates on grouped rows."
   ]
  },
  {
   "cell_type": "markdown",
   "id": "ddc13b5d-45c8-44bc-8530-d3935abee451",
   "metadata": {},
   "source": [
    "* LIMIT/OFFSET (or FETCH FIRST):"
   ]
  },
  {
   "cell_type": "markdown",
   "id": "bba1fd4b-e48b-4d8f-bf5c-56cc17eb9c4f",
   "metadata": {},
   "source": [
    "Limits the number of rows returned or skips a specified number of rows."
   ]
  },
  {
   "cell_type": "code",
   "execution_count": null,
   "id": "ffdd51b2-db61-4211-bf18-3c8ebb44f7b8",
   "metadata": {},
   "outputs": [],
   "source": []
  }
 ],
 "metadata": {
  "kernelspec": {
   "display_name": "Python 3 (ipykernel)",
   "language": "python",
   "name": "python3"
  },
  "language_info": {
   "codemirror_mode": {
    "name": "ipython",
    "version": 3
   },
   "file_extension": ".py",
   "mimetype": "text/x-python",
   "name": "python",
   "nbconvert_exporter": "python",
   "pygments_lexer": "ipython3",
   "version": "3.10.8"
  }
 },
 "nbformat": 4,
 "nbformat_minor": 5
}
